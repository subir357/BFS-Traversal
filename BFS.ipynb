{
 "cells": [
  {
   "cell_type": "markdown",
   "metadata": {},
   "source": [
    "# Graph Traversal using BFS"
   ]
  },
  {
   "cell_type": "code",
   "execution_count": 1,
   "metadata": {},
   "outputs": [],
   "source": [
    "def BFS(G,v,n):# Gbe the graph, v starting vertex, n be the number of vertex\n",
    "    queu=[]\n",
    "    visited=[False]*n\n",
    "    visited[v]=True\n",
    "    queu.append(v)\n",
    "    while len(queu)!=0:\n",
    "        s=queu.pop(0)\n",
    "        queu.pop\n",
    "        print(s)\n",
    "        for a in G[s]:\n",
    "            if visited[a]==False:\n",
    "                queu.append(a)\n",
    "                visited[a]=True\n",
    "                \n",
    "        "
   ]
  },
  {
   "cell_type": "code",
   "execution_count": 2,
   "metadata": {},
   "outputs": [],
   "source": [
    "    graph = {0: [1, 2],\n",
    "             1: [2,3 ],\n",
    "             2: [3],\n",
    "             3: [4],\n",
    "             4: [5],\n",
    "             5: [2]}"
   ]
  },
  {
   "cell_type": "code",
   "execution_count": 3,
   "metadata": {},
   "outputs": [
    {
     "name": "stdout",
     "output_type": "stream",
     "text": [
      "0\n",
      "1\n",
      "2\n",
      "3\n",
      "4\n",
      "5\n"
     ]
    }
   ],
   "source": [
    "BFS(graph,0,6)"
   ]
  }
 ],
 "metadata": {
  "kernelspec": {
   "display_name": "Python 3",
   "language": "python",
   "name": "python3"
  },
  "language_info": {
   "codemirror_mode": {
    "name": "ipython",
    "version": 3
   },
   "file_extension": ".py",
   "mimetype": "text/x-python",
   "name": "python",
   "nbconvert_exporter": "python",
   "pygments_lexer": "ipython3",
   "version": "3.8.5"
  }
 },
 "nbformat": 4,
 "nbformat_minor": 4
}
